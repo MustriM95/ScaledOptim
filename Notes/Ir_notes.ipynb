{
 "cells": [
  {
   "cell_type": "markdown",
   "id": "114a0f1e-d28a-4a04-a916-23494b7a2504",
   "metadata": {},
   "source": []
  },
  {
   "cell_type": "code",
   "execution_count": null,
   "id": "8626ba97-78f9-491c-a8fd-954181005ed5",
   "metadata": {},
   "outputs": [],
   "source": []
  },
  {
   "cell_type": "markdown",
   "id": "9f7f1bdf-2b05-40a2-bac6-f46ab939977a",
   "metadata": {},
   "source": [
    "## Solar irradiance calculations based on latitude and growing season:\n",
    "\n",
    "We start by calculating the solar irradiance that makes it to the surface, which is a fraction of the solar irradiance before passing through the atmosphere, $G_{on}$.\n",
    "\\begin{equation}\n",
    "    G_{on} = R_{inc}\\left[1 + (1/30)\\cos\\left(\\frac{2\\pi n}{365}\\right)\\right]\n",
    "\\end{equation}\n",
    "\n",
    "Where $n$ represents the day of the year (starting from Jan 1st). To obtain the fraction that remains following atmospheric scattering and absorption, we apply a correction based on atmospheric transmittance $\\tau_{b}$.\n",
    "\\begin{equation}\n",
    "    I_{n} = G_{on} \\tau_{b}\n",
    "\\end{equation}\n",
    "\n",
    "Transmittance for our purposes, is calculated as a function of solar zenith angle $\\psi$.\n",
    "\\begin{equation}\n",
    "    \\tau_{b} = a_{0} + a_{1}\\exp\\left[\\frac{-k}{a_{m}(\\psi)}\\right] \n",
    "\\end{equation}\n",
    "\n",
    "Where $a_{m}(\\psi) = \\left[cos(\\psi) + a_{m0}(1.68 - \\psi)^{(-1.634)}\\right]$ is the air mass correction with curvature, and we note that this expression only holds for $\\psi \\leq 1.68$. The solar zenith angle, on the other hand, is calculated from latitude ($\\lambda$), solar hour angle ($\\omega$), and solar declination angle ($\\delta$) such that:\n",
    "\n",
    "\\begin{equation}\n",
    "    \\cos(\\psi) = \\cos(\\lambda)\\cos(\\delta)\\cos(\\omega) + \\sin(\\lambda)\\sin(\\delta)\n",
    "\\end{equation}\n",
    "\n",
    "Solar declination an angle can be approximated with the following empirical relationship\n",
    "\n",
    "\\begin{equation}\n",
    "    \\delta = 24.45\\sin\\left[2\\pi \\frac{284 + n}{365}\\right]\n",
    "\\end{equation}\n",
    "\n",
    "\n",
    "\n"
   ]
  },
  {
   "cell_type": "code",
   "execution_count": null,
   "id": "796d9893-2b42-457a-ab11-acfa05d8d662",
   "metadata": {},
   "outputs": [],
   "source": []
  }
 ],
 "metadata": {
  "kernelspec": {
   "display_name": "Python 3 (ipykernel)",
   "language": "python",
   "name": "python3"
  },
  "language_info": {
   "codemirror_mode": {
    "name": "ipython",
    "version": 3
   },
   "file_extension": ".py",
   "mimetype": "text/x-python",
   "name": "python",
   "nbconvert_exporter": "python",
   "pygments_lexer": "ipython3",
   "version": "3.10.4"
  }
 },
 "nbformat": 4,
 "nbformat_minor": 5
}
